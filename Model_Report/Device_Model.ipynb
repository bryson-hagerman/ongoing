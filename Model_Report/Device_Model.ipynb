{
 "cells": [
  {
   "cell_type": "code",
   "execution_count": 1,
   "metadata": {},
   "outputs": [
    {
     "name": "stdout",
     "output_type": "stream",
     "text": [
      "Wed Dec  5 19:15:57 PST 2018\r\n"
     ]
    }
   ],
   "source": [
    "!date"
   ]
  },
  {
   "cell_type": "markdown",
   "metadata": {},
   "source": [
    "# Report Mock up"
   ]
  },
  {
   "cell_type": "markdown",
   "metadata": {},
   "source": [
    "This notebook is meant to demonstrate a basic workflow when presented with a novel dataset and a need to form skillful predictions.\n",
    "\n",
    "The report will evaluate the validity of predicting device `classification` (are the two devices related) using the available features."
   ]
  },
  {
   "cell_type": "markdown",
   "metadata": {},
   "source": [
    "### Imports and Data Prep"
   ]
  },
  {
   "cell_type": "code",
   "execution_count": 2,
   "metadata": {
    "collapsed": true
   },
   "outputs": [],
   "source": [
    "%matplotlib inline\n",
    "\n",
    "import matplotlib.pyplot as plt\n",
    "import numpy as np\n",
    "import pandas as pd\n",
    "import seaborn as sns\n",
    "import time\n",
    "\n",
    "from datetime import datetime\n",
    "from sklearn.model_selection import train_test_split, GridSearchCV\n",
    "from sklearn.preprocessing import StandardScaler\n",
    "from sklearn import svm, datasets, linear_model, decomposition, metrics\n",
    "from sklearn.pipeline import make_pipeline, Pipeline"
   ]
  },
  {
   "cell_type": "markdown",
   "metadata": {},
   "source": [
    "Load CSV"
   ]
  },
  {
   "cell_type": "code",
   "execution_count": 3,
   "metadata": {
    "collapsed": true
   },
   "outputs": [],
   "source": [
    "device_df = pd.read_csv('device_data.csv')"
   ]
  },
  {
   "cell_type": "code",
   "execution_count": 4,
   "metadata": {},
   "outputs": [
    {
     "name": "stdout",
     "output_type": "stream",
     "text": [
      "<class 'pandas.core.frame.DataFrame'>\n",
      "RangeIndex: 165474 entries, 0 to 165473\n",
      "Data columns (total 22 columns):\n",
      "Unnamed: 0             165474 non-null int64\n",
      "device1                165474 non-null object\n",
      "device1_numsessions    165474 non-null int64\n",
      "device2                165474 non-null object\n",
      "session_overlaps       165474 non-null int64\n",
      "device2_numsessions    165474 non-null int64\n",
      "device2_count2         165474 non-null int64\n",
      "device2_count3         165474 non-null int64\n",
      "device2_loc1           165474 non-null object\n",
      "device2_count4         165474 non-null int64\n",
      "device2_count5         165474 non-null int64\n",
      "device2_date1          165474 non-null object\n",
      "device2_date2          165474 non-null object\n",
      "device2_bool1          59091 non-null float64\n",
      "additional_feature1    165474 non-null int64\n",
      "additional_feature2    165474 non-null int64\n",
      "additional_feature3    165474 non-null float64\n",
      "additional_feature4    165474 non-null float64\n",
      "additional_feature5    165474 non-null float64\n",
      "device1_date1          165474 non-null object\n",
      "device1_loc1           165474 non-null object\n",
      "classification         165474 non-null int64\n",
      "dtypes: float64(4), int64(11), object(7)\n",
      "memory usage: 27.8+ MB\n"
     ]
    }
   ],
   "source": [
    "device_df.info()"
   ]
  },
  {
   "cell_type": "markdown",
   "metadata": {},
   "source": [
    "Roughly 38% of the data is for connected devices, which is a fairly reasonable split. Under a more skewed distribution it would be beneficial to evaluate weighting the information, but for a first pass that doesn't seem necessary."
   ]
  },
  {
   "cell_type": "code",
   "execution_count": 5,
   "metadata": {},
   "outputs": [
    {
     "data": {
      "text/plain": [
       "0    103008\n",
       "1     62466\n",
       "Name: classification, dtype: int64"
      ]
     },
     "execution_count": 5,
     "metadata": {},
     "output_type": "execute_result"
    }
   ],
   "source": [
    "device_df['classification'].value_counts()"
   ]
  },
  {
   "cell_type": "markdown",
   "metadata": {},
   "source": [
    "It looks like `device2_bool1` is missing quite a bit of data. Here I make the assumption that since there are only 'true' boolean rows, the missing ones are 'false' and should be set to `0`."
   ]
  },
  {
   "cell_type": "code",
   "execution_count": 6,
   "metadata": {},
   "outputs": [
    {
     "data": {
      "text/plain": [
       "1.0    59091\n",
       "Name: device2_bool1, dtype: int64"
      ]
     },
     "execution_count": 6,
     "metadata": {},
     "output_type": "execute_result"
    }
   ],
   "source": [
    "device_df['device2_bool1'].value_counts()"
   ]
  },
  {
   "cell_type": "code",
   "execution_count": 7,
   "metadata": {
    "collapsed": true
   },
   "outputs": [],
   "source": [
    "device_df.loc[pd.isnull(device_df['device2_bool1']), 'device2_bool1'] = 0"
   ]
  },
  {
   "cell_type": "markdown",
   "metadata": {},
   "source": [
    "To incorporate categorical and date information a little bit of feature engineering will be necessary. The `loc` variables will be represented by an intermediate boolean feature indicating if the location for each device was the same store or not.\n",
    "\n",
    "Each date feature will be formated as seconds since epoch."
   ]
  },
  {
   "cell_type": "code",
   "execution_count": 8,
   "metadata": {},
   "outputs": [
    {
     "data": {
      "text/html": [
       "<div>\n",
       "<style>\n",
       "    .dataframe thead tr:only-child th {\n",
       "        text-align: right;\n",
       "    }\n",
       "\n",
       "    .dataframe thead th {\n",
       "        text-align: left;\n",
       "    }\n",
       "\n",
       "    .dataframe tbody tr th {\n",
       "        vertical-align: top;\n",
       "    }\n",
       "</style>\n",
       "<table border=\"1\" class=\"dataframe\">\n",
       "  <thead>\n",
       "    <tr style=\"text-align: right;\">\n",
       "      <th></th>\n",
       "      <th>device2_date1</th>\n",
       "      <th>device2_date2</th>\n",
       "      <th>device1_date1</th>\n",
       "      <th>device1_loc1</th>\n",
       "      <th>device2_loc1</th>\n",
       "    </tr>\n",
       "  </thead>\n",
       "  <tbody>\n",
       "    <tr>\n",
       "      <th>0</th>\n",
       "      <td>2016-10-27 11:08:05.0</td>\n",
       "      <td>2017-04-01 17:53:35.0</td>\n",
       "      <td>2016-11-26</td>\n",
       "      <td>Store_2456</td>\n",
       "      <td>Store_2456</td>\n",
       "    </tr>\n",
       "    <tr>\n",
       "      <th>1</th>\n",
       "      <td>2016-09-28 14:57:18.0</td>\n",
       "      <td>2017-01-24 13:59:02.0</td>\n",
       "      <td>2016-11-16</td>\n",
       "      <td>Store_2038</td>\n",
       "      <td>Store_2038</td>\n",
       "    </tr>\n",
       "    <tr>\n",
       "      <th>2</th>\n",
       "      <td>2016-11-25 15:45:09.0</td>\n",
       "      <td>2017-07-15 13:43:06.0</td>\n",
       "      <td>2016-12-30</td>\n",
       "      <td>Store_1947</td>\n",
       "      <td>Store_1947</td>\n",
       "    </tr>\n",
       "    <tr>\n",
       "      <th>3</th>\n",
       "      <td>2017-01-17 14:00:41.0</td>\n",
       "      <td>2017-03-30 12:16:00.0</td>\n",
       "      <td>2016-11-21</td>\n",
       "      <td>Store_1900</td>\n",
       "      <td>Store_1900</td>\n",
       "    </tr>\n",
       "    <tr>\n",
       "      <th>4</th>\n",
       "      <td>2016-10-21 18:26:57.0</td>\n",
       "      <td>2016-12-04 13:46:36.0</td>\n",
       "      <td>2016-11-20</td>\n",
       "      <td>Store_2022</td>\n",
       "      <td>Store_2022</td>\n",
       "    </tr>\n",
       "  </tbody>\n",
       "</table>\n",
       "</div>"
      ],
      "text/plain": [
       "           device2_date1          device2_date2 device1_date1 device1_loc1  \\\n",
       "0  2016-10-27 11:08:05.0  2017-04-01 17:53:35.0    2016-11-26   Store_2456   \n",
       "1  2016-09-28 14:57:18.0  2017-01-24 13:59:02.0    2016-11-16   Store_2038   \n",
       "2  2016-11-25 15:45:09.0  2017-07-15 13:43:06.0    2016-12-30   Store_1947   \n",
       "3  2017-01-17 14:00:41.0  2017-03-30 12:16:00.0    2016-11-21   Store_1900   \n",
       "4  2016-10-21 18:26:57.0  2016-12-04 13:46:36.0    2016-11-20   Store_2022   \n",
       "\n",
       "  device2_loc1  \n",
       "0   Store_2456  \n",
       "1   Store_2038  \n",
       "2   Store_1947  \n",
       "3   Store_1900  \n",
       "4   Store_2022  "
      ]
     },
     "execution_count": 8,
     "metadata": {},
     "output_type": "execute_result"
    }
   ],
   "source": [
    "device_df[['device2_date1', 'device2_date2', 'device1_date1', 'device1_loc1', 'device2_loc1']].head()"
   ]
  },
  {
   "cell_type": "code",
   "execution_count": 9,
   "metadata": {
    "collapsed": true
   },
   "outputs": [],
   "source": [
    "device_df['loc_boolean'] = device_df['device1_loc1'] == device_df['device2_loc1']\n",
    "device_df['loc_boolean'] = device_df['loc_boolean'].astype(int)"
   ]
  },
  {
   "cell_type": "code",
   "execution_count": 10,
   "metadata": {
    "collapsed": true
   },
   "outputs": [],
   "source": [
    "device_df['device2_date1_epoch'] = [time.mktime(datetime.strptime(string_date, \"%Y-%m-%d %H:%M:%S.%f\").timetuple())\n",
    "                                    for string_date in device_df['device2_date1'].values]\n",
    "device_df['device2_date2_epoch'] = [time.mktime(datetime.strptime(string_date, \"%Y-%m-%d %H:%M:%S.%f\").timetuple())\n",
    "                                    for string_date in device_df['device2_date2'].values]\n",
    "device_df['device1_date1_epoch'] = [time.mktime(datetime.strptime(string_date, \"%Y-%m-%d\").timetuple())\n",
    "                                    for string_date in device_df['device1_date1'].values]"
   ]
  },
  {
   "cell_type": "markdown",
   "metadata": {},
   "source": [
    "Extract feature names for array setup"
   ]
  },
  {
   "cell_type": "code",
   "execution_count": 11,
   "metadata": {
    "collapsed": true
   },
   "outputs": [],
   "source": [
    "var_list = ['session_overlaps', 'device1_numsessions', 'device2_numsessions',\n",
    "            'device2_count2', 'device2_count3', 'device2_count4', 'device2_count5',\n",
    "            'additional_feature1', 'additional_feature2', 'additional_feature3', 'additional_feature4',\n",
    "            'additional_feature5', 'device2_date1_epoch', 'device2_date2_epoch', 'device1_date1_epoch',\n",
    "            'loc_boolean', 'device2_bool1']"
   ]
  },
  {
   "cell_type": "code",
   "execution_count": 12,
   "metadata": {
    "collapsed": true
   },
   "outputs": [],
   "source": [
    "X = np.asarray(device_df.loc[:, var_list])\n",
    "y = np.asarray(device_df.loc[:, ['classification']])"
   ]
  },
  {
   "cell_type": "markdown",
   "metadata": {},
   "source": [
    "Scale appropriate X input features (leaving out binary columns `loc_boolean` and `device2_bool1`)"
   ]
  },
  {
   "cell_type": "code",
   "execution_count": 13,
   "metadata": {
    "collapsed": true
   },
   "outputs": [],
   "source": [
    "scaler = StandardScaler().fit(X[:, :-2])\n",
    "scaled = scaler.transform(X[:, :-2])\n",
    "scaled_features = np.hstack([scaled, X[:, 15:]])"
   ]
  },
  {
   "cell_type": "markdown",
   "metadata": {},
   "source": [
    "Split up data for training and testing. Holding out 15% for validation."
   ]
  },
  {
   "cell_type": "code",
   "execution_count": 14,
   "metadata": {
    "collapsed": true
   },
   "outputs": [],
   "source": [
    "X_train, X_test, y_train, y_test = train_test_split(scaled_features, y,\n",
    "                                                    test_size=0.15,\n",
    "                                                    random_state=11)"
   ]
  },
  {
   "cell_type": "markdown",
   "metadata": {},
   "source": [
    "Given the binary nature of the prediction (are the two devices related) I will be utilizing logistic regression for a first pass effort. While a more complicated framework may certainly be appropriate, when it is not clear if available features will support a skillful predictive model I find it valuable to work with less complex methods. This gets results sooner and can provide support when asking for more costly implementations."
   ]
  },
  {
   "cell_type": "markdown",
   "metadata": {},
   "source": [
    "Since there are a number of available features, I will be utilizing a scikit `Pipeline` to chain a PCA decomposition with logistic regression. The plot below provides boundaries for `n_components`."
   ]
  },
  {
   "cell_type": "code",
   "execution_count": 15,
   "metadata": {},
   "outputs": [
    {
     "data": {
      "text/plain": [
       "<matplotlib.text.Text at 0x7fa0717b7390>"
      ]
     },
     "execution_count": 15,
     "metadata": {},
     "output_type": "execute_result"
    },
    {
     "data": {
      "image/png": "[encoded data removed]",
      "text/plain": [
       "<matplotlib.figure.Figure at 0x7fa0ac95aba8>"
      ]
     },
     "metadata": {},
     "output_type": "display_data"
    }
   ],
   "source": [
    "logistic_reg = linear_model.LogisticRegression()\n",
    "\n",
    "pca_eval = decomposition.PCA()\n",
    "pca_pipe = Pipeline(steps=[('pca', pca_eval), ('logistic', logistic_reg)])\n",
    "\n",
    "pca_eval.fit(X_train)\n",
    "\n",
    "plt.figure(1, figsize=(4, 3))\n",
    "plt.clf()\n",
    "plt.axes([.2, .2, .7, .7])\n",
    "plt.plot(pca_eval.explained_variance_, linewidth=2)\n",
    "plt.axis('tight')\n",
    "plt.xlabel('Num Components')\n",
    "plt.ylabel('Explained Variance')"
   ]
  },
  {
   "cell_type": "code",
   "execution_count": 16,
   "metadata": {
    "scrolled": false
   },
   "outputs": [
    {
     "data": {
      "text/plain": [
       "GridSearchCV(cv=None, error_score='raise',\n",
       "       estimator=Pipeline(memory=None,\n",
       "     steps=[('pca', PCA(copy=True, iterated_power='auto', n_components=None, random_state=None,\n",
       "  svd_solver='auto', tol=0.0, whiten=False)), ('logistic', LogisticRegression(C=1.0, class_weight=None, dual=False, fit_intercept=True,\n",
       "          intercept_scaling=1, max_iter=100, multi_class='ovr', n_jobs=1,\n",
       "          penalty='l2', random_state=None, solver='liblinear', tol=0.0001,\n",
       "          verbose=0, warm_start=False))]),\n",
       "       fit_params=None, iid=True, n_jobs=1,\n",
       "       param_grid={'pca__n_components': [10, 15], 'logistic__C': array([  1.00000e-04,   1.00000e+00,   1.00000e+04])},\n",
       "       pre_dispatch='2*n_jobs', refit=True, return_train_score=True,\n",
       "       scoring=None, verbose=0)"
      ]
     },
     "execution_count": 16,
     "metadata": {},
     "output_type": "execute_result"
    }
   ],
   "source": [
    "n_components = [10, 15]\n",
    "C_s = np.logspace(-4, 4, 3)\n",
    "\n",
    "# Use grid search to optimize component and C parameters\n",
    "device_model_v1 = GridSearchCV(pca_pipe,\n",
    "                               dict(pca__n_components=n_components,\n",
    "                               logistic__C=C_s))\n",
    "device_model_v1.fit(X_train, y_train.reshape(-1))"
   ]
  },
  {
   "cell_type": "markdown",
   "metadata": {},
   "source": [
    "The logistic regression pipeline results in a model with 82.2% accuracy against the held out test data."
   ]
  },
  {
   "cell_type": "code",
   "execution_count": 17,
   "metadata": {},
   "outputs": [
    {
     "data": {
      "text/plain": [
       "0.82169043590363389"
      ]
     },
     "execution_count": 17,
     "metadata": {},
     "output_type": "execute_result"
    }
   ],
   "source": [
    "device_model_v1.score(X_test, y_test)"
   ]
  },
  {
   "cell_type": "markdown",
   "metadata": {},
   "source": [
    "## Alternative Keras Model"
   ]
  },
  {
   "cell_type": "markdown",
   "metadata": {},
   "source": [
    "A relatively straightforward keras model will act as a comparison to evaluate performance lift with a more complex network."
   ]
  },
  {
   "cell_type": "code",
   "execution_count": 18,
   "metadata": {},
   "outputs": [
    {
     "name": "stderr",
     "output_type": "stream",
     "text": [
      "Using TensorFlow backend.\n"
     ]
    }
   ],
   "source": [
    "from keras.models import Sequential\n",
    "from keras.layers.core import Dense, Activation\n",
    "from keras.utils import np_utils"
   ]
  },
  {
   "cell_type": "markdown",
   "metadata": {},
   "source": [
    "Using binary crossentropy since there are only two classes to predict."
   ]
  },
  {
   "cell_type": "code",
   "execution_count": 19,
   "metadata": {
    "collapsed": true
   },
   "outputs": [],
   "source": [
    "model = Sequential()\n",
    "model.add(Dense(8, input_shape = (17, )))\n",
    "model.add(Activation('sigmoid'))\n",
    "model.add(Dense(2))\n",
    "model.add(Activation('softmax'))\n",
    "model.compile(loss='binary_crossentropy', metrics=['accuracy'], optimizer='adam')"
   ]
  },
  {
   "cell_type": "code",
   "execution_count": 20,
   "metadata": {},
   "outputs": [
    {
     "name": "stdout",
     "output_type": "stream",
     "text": [
      "_________________________________________________________________\n",
      "Layer (type)                 Output Shape              Param #   \n",
      "=================================================================\n",
      "dense_1 (Dense)              (None, 8)                 144       \n",
      "_________________________________________________________________\n",
      "activation_1 (Activation)    (None, 8)                 0         \n",
      "_________________________________________________________________\n",
      "dense_2 (Dense)              (None, 2)                 18        \n",
      "_________________________________________________________________\n",
      "activation_2 (Activation)    (None, 2)                 0         \n",
      "=================================================================\n",
      "Total params: 162\n",
      "Trainable params: 162\n",
      "Non-trainable params: 0\n",
      "_________________________________________________________________\n"
     ]
    }
   ],
   "source": [
    "model.summary()"
   ]
  },
  {
   "cell_type": "code",
   "execution_count": 21,
   "metadata": {
    "scrolled": true
   },
   "outputs": [
    {
     "name": "stdout",
     "output_type": "stream",
     "text": [
      "Epoch 1/30\n",
      "140652/140652 [==============================] - 4s - loss: 0.4218 - acc: 0.8079     \n",
      "Epoch 2/30\n",
      "140652/140652 [==============================] - 4s - loss: 0.3729 - acc: 0.8321     \n",
      "Epoch 3/30\n",
      "140652/140652 [==============================] - 3s - loss: 0.3642 - acc: 0.8366     \n",
      "Epoch 4/30\n",
      "140652/140652 [==============================] - 3s - loss: 0.3599 - acc: 0.8394     \n",
      "Epoch 5/30\n",
      "140652/140652 [==============================] - 3s - loss: 0.3573 - acc: 0.8413     \n",
      "Epoch 6/30\n",
      "140652/140652 [==============================] - 3s - loss: 0.3553 - acc: 0.8419     \n",
      "Epoch 7/30\n",
      "140652/140652 [==============================] - 3s - loss: 0.3538 - acc: 0.8434     \n",
      "Epoch 8/30\n",
      "140652/140652 [==============================] - 3s - loss: 0.3526 - acc: 0.8442     \n",
      "Epoch 9/30\n",
      "140652/140652 [==============================] - 3s - loss: 0.3516 - acc: 0.8436     \n",
      "Epoch 10/30\n",
      "140652/140652 [==============================] - 3s - loss: 0.3508 - acc: 0.8442     \n",
      "Epoch 11/30\n",
      "140652/140652 [==============================] - 3s - loss: 0.3502 - acc: 0.8447     \n",
      "Epoch 12/30\n",
      "140652/140652 [==============================] - 3s - loss: 0.3497 - acc: 0.8447     \n",
      "Epoch 13/30\n",
      "140652/140652 [==============================] - 3s - loss: 0.3491 - acc: 0.8448     \n",
      "Epoch 14/30\n",
      "140652/140652 [==============================] - 3s - loss: 0.3487 - acc: 0.8452     \n",
      "Epoch 15/30\n",
      "140652/140652 [==============================] - 3s - loss: 0.3484 - acc: 0.8451     \n",
      "Epoch 16/30\n",
      "140652/140652 [==============================] - 3s - loss: 0.3480 - acc: 0.8452     \n",
      "Epoch 17/30\n",
      "140652/140652 [==============================] - 3s - loss: 0.3478 - acc: 0.8454     \n",
      "Epoch 18/30\n",
      "140652/140652 [==============================] - 3s - loss: 0.3476 - acc: 0.8450     \n",
      "Epoch 19/30\n",
      "140652/140652 [==============================] - 4s - loss: 0.3473 - acc: 0.8452     \n",
      "Epoch 20/30\n",
      "140652/140652 [==============================] - 3s - loss: 0.3471 - acc: 0.8454     \n",
      "Epoch 21/30\n",
      "140652/140652 [==============================] - 3s - loss: 0.3470 - acc: 0.8455     \n",
      "Epoch 22/30\n",
      "140652/140652 [==============================] - 3s - loss: 0.3467 - acc: 0.8455     \n",
      "Epoch 23/30\n",
      "140652/140652 [==============================] - 3s - loss: 0.3467 - acc: 0.8458     \n",
      "Epoch 24/30\n",
      "140652/140652 [==============================] - 3s - loss: 0.3465 - acc: 0.8456     \n",
      "Epoch 25/30\n",
      "140652/140652 [==============================] - 3s - loss: 0.3464 - acc: 0.8457     \n",
      "Epoch 26/30\n",
      "140652/140652 [==============================] - 3s - loss: 0.3464 - acc: 0.8455     \n",
      "Epoch 27/30\n",
      "140652/140652 [==============================] - 3s - loss: 0.3461 - acc: 0.8457     \n",
      "Epoch 28/30\n",
      "140652/140652 [==============================] - 3s - loss: 0.3460 - acc: 0.8458     \n",
      "Epoch 29/30\n",
      "140652/140652 [==============================] - 3s - loss: 0.3461 - acc: 0.8451     \n",
      "Epoch 30/30\n",
      "140652/140652 [==============================] - 3s - loss: 0.3459 - acc: 0.8452     \n"
     ]
    },
    {
     "data": {
      "text/plain": [
       "<keras.callbacks.History at 0x7fa058910320>"
      ]
     },
     "execution_count": 21,
     "metadata": {},
     "output_type": "execute_result"
    }
   ],
   "source": [
    "Y_train = np_utils.to_categorical(y_train, 2) \n",
    "Y_test = np_utils.to_categorical(y_test, 2)\n",
    "model.fit(X_train, Y_train, verbose=1, batch_size=32, epochs=30)"
   ]
  },
  {
   "cell_type": "code",
   "execution_count": 22,
   "metadata": {},
   "outputs": [
    {
     "name": "stdout",
     "output_type": "stream",
     "text": [
      "24448/24822 [============================>.] - ETA: 0s"
     ]
    }
   ],
   "source": [
    "score, accuracy = model.evaluate(X_test, Y_test, batch_size=32, verbose=1)"
   ]
  },
  {
   "cell_type": "code",
   "execution_count": 23,
   "metadata": {},
   "outputs": [
    {
     "data": {
      "text/plain": [
       "0.84832003868497374"
      ]
     },
     "execution_count": 23,
     "metadata": {},
     "output_type": "execute_result"
    }
   ],
   "source": [
    "accuracy"
   ]
  },
  {
   "cell_type": "markdown",
   "metadata": {},
   "source": [
    "## Model Accuracy Evaluation"
   ]
  },
  {
   "cell_type": "markdown",
   "metadata": {},
   "source": [
    "- Model 1 Accuracy: 81.6%\n",
    "- Model 2 Accuracy: 84.9%\n",
    "\n",
    "While raw model accuracy is certainly a valuable metric, other values must be taken into consideration when trying to determine overall performance.\n",
    "\n",
    "Based on the above, both models appear to be decently skillful, with the keras implementation outperforming the logistic regression pipeline. To get a better understanding for the overall model performance, it is important to first determine the null accuracy (possible accuracy if the model simply predicted the most common class)."
   ]
  },
  {
   "cell_type": "code",
   "execution_count": 24,
   "metadata": {},
   "outputs": [
    {
     "name": "stdout",
     "output_type": "stream",
     "text": [
      "Null accuracy: 0.6225026288117771\n"
     ]
    }
   ],
   "source": [
    "print('Null accuracy: {}'.format(len(device_df[device_df['classification'] == 0]) / len(device_df)))"
   ]
  },
  {
   "cell_type": "markdown",
   "metadata": {},
   "source": [
    "Both models perform far better than the null alternative (whew)."
   ]
  },
  {
   "cell_type": "markdown",
   "metadata": {},
   "source": [
    "An alternative way to evaluate model classification skill beyond accuracy is to reference a confusion matrix. These tables display counts for true positives, true negatives, false positives (Type I error), and false negatives (Type II error). The boundary between the appropriate ratio of Type I to Type II errors is often highly dependent on the overall situation. In some cases it pays to be overly cautious and potentially mis-label, but in others it can be incredibly detrimental."
   ]
  },
  {
   "cell_type": "code",
   "execution_count": 25,
   "metadata": {
    "collapsed": true
   },
   "outputs": [],
   "source": [
    "cm_model1 = metrics.confusion_matrix(y_test, device_model_v1.predict(X_test))"
   ]
  },
  {
   "cell_type": "code",
   "execution_count": 26,
   "metadata": {},
   "outputs": [
    {
     "data": {
      "text/plain": [
       "[<matplotlib.text.Text at 0x7fa058787e48>,\n",
       " <matplotlib.text.Text at 0x7fa058799c18>]"
      ]
     },
     "execution_count": 26,
     "metadata": {},
     "output_type": "execute_result"
    },
    {
     "data": {
      "image/png": "[encoded data removed]",
      "text/plain": [
       "<matplotlib.figure.Figure at 0x7fa05884cac8>"
      ]
     },
     "metadata": {},
     "output_type": "display_data"
    }
   ],
   "source": [
    "ax= plt.subplot()\n",
    "sns.heatmap(cm_model1, annot=True, ax = ax, fmt='g', cmap='Blues')\n",
    "\n",
    "# labels, title and ticks\n",
    "ax.set_xlabel('Predicted labels')\n",
    "ax.set_ylabel('True labels')\n",
    "ax.set_title('Confusion Matrix')\n",
    "ax.xaxis.set_ticklabels(['Not Connected', 'Connected'])\n",
    "ax.yaxis.set_ticklabels(['Not Connected', 'Connected'])"
   ]
  },
  {
   "cell_type": "code",
   "execution_count": 27,
   "metadata": {},
   "outputs": [
    {
     "name": "stdout",
     "output_type": "stream",
     "text": [
      "23680/24822 [===========================>..] - ETA: 0s"
     ]
    }
   ],
   "source": [
    "cm_model2 = metrics.confusion_matrix(y_test, model.predict_classes(X_test))"
   ]
  },
  {
   "cell_type": "code",
   "execution_count": 28,
   "metadata": {},
   "outputs": [
    {
     "data": {
      "text/plain": [
       "[<matplotlib.text.Text at 0x7fa0546be320>,\n",
       " <matplotlib.text.Text at 0x7fa0546bae80>]"
      ]
     },
     "execution_count": 28,
     "metadata": {},
     "output_type": "execute_result"
    },
    {
     "data": {
      "image/png": "[encoded data removed]",
      "text/plain": [
       "<matplotlib.figure.Figure at 0x7fa0587b3e48>"
      ]
     },
     "metadata": {},
     "output_type": "display_data"
    }
   ],
   "source": [
    "ax= plt.subplot()\n",
    "sns.heatmap(cm_model2, annot=True, ax = ax, fmt='g', cmap='Blues')\n",
    "\n",
    "# labels, title and ticks\n",
    "ax.set_xlabel('Predicted labels')\n",
    "ax.set_ylabel('True labels'); \n",
    "ax.set_title('Confusion Matrix') \n",
    "ax.xaxis.set_ticklabels(['Not Connected', 'Connected'])\n",
    "ax.yaxis.set_ticklabels(['Not Connected', 'Connected'])"
   ]
  },
  {
   "cell_type": "markdown",
   "metadata": {},
   "source": [
    "Now we can see that the first model correctly labeled devices as 'Not Connected' at effectively the same rate as the second, more accurate model. The increase in accuracy for the second model was a result of correctly labeling many more devices as connected. However, while the second model has higher true positives and a lower rate of false negatives, the false positive rate is actually higher as well."
   ]
  },
  {
   "cell_type": "markdown",
   "metadata": {},
   "source": [
    "## Conclusion"
   ]
  },
  {
   "cell_type": "markdown",
   "metadata": {},
   "source": [
    "Taking all of this into account, it would be reasonable to continue training and improving the second model as it outperforms the baseline and logistic models. If we assume that false negatives are worse than false positives, the second model is significantly more skillful, but if the opposite is true then the marginal increase in false positives may not be worth the increase in accuracy."
   ]
  },
  {
   "cell_type": "markdown",
   "metadata": {},
   "source": [
    "Save final model"
   ]
  },
  {
   "cell_type": "code",
   "execution_count": 29,
   "metadata": {
    "collapsed": true
   },
   "outputs": [],
   "source": [
    "model.save('connected_device_v2.h5')"
   ]
  }
 ],
 "metadata": {
  "kernelspec": {
   "display_name": "Python 3",
   "language": "python",
   "name": "python3"
  },
  "language_info": {
   "codemirror_mode": {
    "name": "ipython",
    "version": 3
   },
   "file_extension": ".py",
   "mimetype": "text/x-python",
   "name": "python",
   "nbconvert_exporter": "python",
   "pygments_lexer": "ipython3",
   "version": "3.6.0"
  }
 },
 "nbformat": 4,
 "nbformat_minor": 2
}
