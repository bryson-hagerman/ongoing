{
 "cells": [
  {
   "cell_type": "markdown",
   "metadata": {},
   "source": [
    "Please click Cells and then Run All."
   ]
  },
  {
   "cell_type": "code",
   "execution_count": 1,
   "metadata": {},
   "outputs": [
    {
     "data": {
      "text/html": [
       "<script>\n",
       "code_show=true; \n",
       "function code_toggle() {\n",
       " if (code_show){\n",
       " $('div.input').hide();\n",
       " } else {\n",
       " $('div.input').show();\n",
       " }\n",
       " code_show = !code_show\n",
       "} \n",
       "$( document ).ready(code_toggle);\n",
       "</script>\n",
       "<form action=\"javascript:code_toggle()\"><input type=\"submit\" value=\"Click here to toggle on/off the raw code.\"></form>"
      ],
      "text/plain": [
       "<IPython.core.display.HTML object>"
      ]
     },
     "execution_count": 1,
     "metadata": {},
     "output_type": "execute_result"
    }
   ],
   "source": [
    "from IPython.display import Image\n",
    "from IPython.display import HTML\n",
    "\n",
    "HTML('''<script>\n",
    "code_show=true; \n",
    "function code_toggle() {\n",
    " if (code_show){\n",
    " $('div.input').hide();\n",
    " } else {\n",
    " $('div.input').show();\n",
    " }\n",
    " code_show = !code_show\n",
    "} \n",
    "$( document ).ready(code_toggle);\n",
    "</script>\n",
    "<form action=\"javascript:code_toggle()\"><input type=\"submit\" value=\"Click here to toggle on/off the raw code.\"></form>''')\n",
    "\n"
   ]
  },
  {
   "cell_type": "code",
   "execution_count": 2,
   "metadata": {},
   "outputs": [
    {
     "data": {
      "text/html": [
       "<script>requirejs.config({paths: { 'plotly': ['https://cdn.plot.ly/plotly-latest.min']},});if(!window.Plotly) {{require(['plotly'],function(plotly) {window.Plotly=plotly;});}}</script>"
      ],
      "text/vnd.plotly.v1+html": [
       "<script>requirejs.config({paths: { 'plotly': ['https://cdn.plot.ly/plotly-latest.min']},});if(!window.Plotly) {{require(['plotly'],function(plotly) {window.Plotly=plotly;});}}</script>"
      ]
     },
     "metadata": {},
     "output_type": "display_data"
    }
   ],
   "source": [
    "%matplotlib inline\n",
    "\n",
    "import numpy as np\n",
    "import pandas as pd\n",
    "import plotly.plotly as py\n",
    "import matplotlib.pyplot as plt\n",
    "import seaborn as sns\n",
    "\n",
    "from plotly import tools\n",
    "from plotly.graph_objs import *\n",
    "from plotly.grid_objs import Grid, Column\n",
    "from plotly.offline import download_plotlyjs, init_notebook_mode,  iplot, plot\n",
    "\n",
    "init_notebook_mode(connected=True)"
   ]
  },
  {
   "cell_type": "markdown",
   "metadata": {},
   "source": [
    "Data for this notebook was pulled from [USGS](https://earthquake.usgs.gov/earthquakes/map/)."
   ]
  },
  {
   "cell_type": "code",
   "execution_count": 3,
   "metadata": {
    "collapsed": true
   },
   "outputs": [],
   "source": [
    "quake_df = pd.read_csv('2.5_week.csv')"
   ]
  },
  {
   "cell_type": "code",
   "execution_count": 4,
   "metadata": {
    "collapsed": true
   },
   "outputs": [],
   "source": [
    "quake_df['times'] = [pd.Timestamp(t).round('h') for t in quake_df['time'].astype(str)]"
   ]
  },
  {
   "cell_type": "code",
   "execution_count": 5,
   "metadata": {
    "collapsed": true
   },
   "outputs": [],
   "source": [
    "quake_df['time_int'] = np.arange(0, len(quake_df))"
   ]
  },
  {
   "cell_type": "markdown",
   "metadata": {},
   "source": [
    "# Quake Watch"
   ]
  },
  {
   "cell_type": "markdown",
   "metadata": {},
   "source": [
    "The last time I was home happened to coincide with renewed activity from the Kilauea volcano. Before the actual lava flow appeared, we experienced numerous earthquakes as the lava created a new path through the island.\n",
    "\n",
    "I wanted to better understand the rate and magnitude of the quakes since it was assumed the increasing number was leading to something. I also wanted to experiment with Plotly visualizations."
   ]
  },
  {
   "cell_type": "code",
   "execution_count": 6,
   "metadata": {
    "collapsed": true
   },
   "outputs": [],
   "source": [
    "# Throwaway public API\n",
    "import plotly\n",
    "plotly.tools.set_credentials_file(username='bhagerman', api_key='GnJmY08anEPifrOyWDJZ')"
   ]
  },
  {
   "cell_type": "code",
   "execution_count": 7,
   "metadata": {
    "collapsed": true
   },
   "outputs": [],
   "source": [
    "# Get list of years\n",
    "hours = quake_df[\"times\"].unique()\n",
    "hours = list(sorted(hours.astype(str)))\n",
    "\n",
    "hlist = quake_df.groupby(\"times\").count()[\"time_int\"]\n",
    "hlist_cum = hlist.cumsum()\n",
    "\n",
    "# Convert list items to string\n",
    "hlist = list(hlist.astype(str))\n",
    "hlist_cum = list(hlist_cum.astype(str))"
   ]
  },
  {
   "cell_type": "markdown",
   "metadata": {},
   "source": [
    "The two charts below show recorded earthquakes over time both in terms of magnitude and overall number. In both visualizations there is an evident clustering of events around and following May 5th."
   ]
  },
  {
   "cell_type": "code",
   "execution_count": 8,
   "metadata": {
    "scrolled": false
   },
   "outputs": [
    {
     "data": {
      "text/html": [
       "<iframe id=\"igraph\" scrolling=\"no\" style=\"border:none;\" seamless=\"seamless\" src=\"https://plot.ly/~bhagerman/14.embed\" height=\"600px\" width=\"1000px\"></iframe>"
      ],
      "text/plain": [
       "<plotly.tools.PlotlyDisplay object>"
      ]
     },
     "execution_count": 8,
     "metadata": {},
     "output_type": "execute_result"
    }
   ],
   "source": [
    "trace1 = Scatter(\n",
    "    x = quake_df['times'],\n",
    "    y = quake_df['mag'],\n",
    "    mode = 'lines+markers',\n",
    "    name = 'Quake Magnitude'\n",
    ")\n",
    "\n",
    "trace2 = Scatter(\n",
    "    x = hours,\n",
    "    y = hlist_cum,\n",
    "    mode = 'lines+markers',\n",
    "    name = 'Quake Cumulative Sum'\n",
    ")\n",
    "\n",
    "fig = tools.make_subplots(rows=2, cols=1, print_grid=False)\n",
    "\n",
    "fig.append_trace(trace1, 1, 1)\n",
    "fig.append_trace(trace2, 2, 1)\n",
    "#fig.append_trace(trace3, 3, 1)\n",
    "\n",
    "fig['layout'].update(height=600, width=1000, title='Kilauea Earthquakes')\n",
    "\n",
    "py.iplot(fig, filename='quake_sub_test', validate=True)"
   ]
  },
  {
   "cell_type": "markdown",
   "metadata": {},
   "source": [
    "Below is the same set of measurements but plotted spatially. Areas with the largest earthquakes correspond to where the lava ultimately fissured from."
   ]
  },
  {
   "cell_type": "code",
   "execution_count": 9,
   "metadata": {},
   "outputs": [
    {
     "data": {
      "text/html": [
       "<iframe id=\"igraph\" scrolling=\"no\" style=\"border:none;\" seamless=\"seamless\" src=\"https://plot.ly/~bhagerman/4.embed\" height=\"525px\" width=\"100%\"></iframe>"
      ],
      "text/plain": [
       "<plotly.tools.PlotlyDisplay object>"
      ]
     },
     "execution_count": 9,
     "metadata": {},
     "output_type": "execute_result"
    }
   ],
   "source": [
    "data = Data([\n",
    "    Scattermapbox(\n",
    "        lat=quake_df['latitude'].values,\n",
    "        lon=quake_df['longitude'].values,\n",
    "        mode='markers',\n",
    "        marker=Marker(\n",
    "            size=quake_df['mag'].values * 2,\n",
    "            color=quake_df['mag'],\n",
    "            showscale=True,\n",
    "            cmax=7,\n",
    "            cmin=0,\n",
    "            opacity=0.7\n",
    "        ),\n",
    "        text=quake_df['mag'].values\n",
    "    )\n",
    "])\n",
    "\n",
    "layout = Layout(\n",
    "    title='Quakes Over Time',\n",
    "    autosize=True,\n",
    "    hovermode='closest',\n",
    "    \n",
    "    mapbox=dict(\n",
    "        accesstoken='pk.eyJ1IjoiYmhhZ2VybWFuIiwiYSI6ImNqZ3Y2YzF2ZzBlMGEzMG85ZW9lbTN1MDcifQ.v9OoLfA1qxCGgHWoQwi2Hw',\n",
    "        bearing=0,\n",
    "        center=dict(\n",
    "            lat=19.3,\n",
    "            lon=-155\n",
    "        ),\n",
    "        pitch=2,\n",
    "        zoom=8,\n",
    "        style='light'\n",
    "    ),\n",
    ")\n",
    "\n",
    "fig = dict(data=data, layout=layout)\n",
    "py.iplot(fig, filename='Test Mapbox')"
   ]
  },
  {
   "cell_type": "markdown",
   "metadata": {},
   "source": [
    "The photo below was taken on May 19th, just two weeks after the observed peak in earthquake frequency."
   ]
  },
  {
   "cell_type": "code",
   "execution_count": 10,
   "metadata": {},
   "outputs": [
    {
     "data": {
      "text/html": [
       "<img src=\"https://upload.wikimedia.org/wikipedia/commons/thumb/5/5a/USGS_K%C4%ABlauea_multimediaFile-2062.jpg/800px-USGS_K%C4%ABlauea_multimediaFile-2062.jpg\" width=\"800\" height=\"800\"/>"
      ],
      "text/plain": [
       "<IPython.core.display.Image object>"
      ]
     },
     "execution_count": 10,
     "metadata": {},
     "output_type": "execute_result"
    }
   ],
   "source": [
    "Image(url= \"https://upload.wikimedia.org/wikipedia/commons/thumb/5/5a/USGS_K%C4%ABlauea_multimediaFile-2062.jpg/800px-USGS_K%C4%ABlauea_multimediaFile-2062.jpg\", width=800, height=800)"
   ]
  },
  {
   "cell_type": "code",
   "execution_count": null,
   "metadata": {
    "collapsed": true
   },
   "outputs": [],
   "source": []
  }
 ],
 "metadata": {
  "kernelspec": {
   "display_name": "Python 3",
   "language": "python",
   "name": "python3"
  },
  "language_info": {
   "codemirror_mode": {
    "name": "ipython",
    "version": 3
   },
   "file_extension": ".py",
   "mimetype": "text/x-python",
   "name": "python",
   "nbconvert_exporter": "python",
   "pygments_lexer": "ipython3",
   "version": "3.6.0"
  }
 },
 "nbformat": 4,
 "nbformat_minor": 2
}
